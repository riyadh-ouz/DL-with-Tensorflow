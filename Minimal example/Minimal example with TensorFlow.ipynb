{
 "cells": [
  {
   "cell_type": "markdown",
   "metadata": {},
   "source": [
    "# Minimal example with TensorFlow"
   ]
  },
  {
   "cell_type": "markdown",
   "metadata": {},
   "source": [
    "### import the relevant libraries"
   ]
  },
  {
   "cell_type": "code",
   "execution_count": 1,
   "metadata": {},
   "outputs": [],
   "source": [
    "import numpy as np\n",
    "import matplotlib.pyplot as plt\n",
    "import tensorflow as tf"
   ]
  },
  {
   "cell_type": "markdown",
   "metadata": {},
   "source": [
    "### Generate data"
   ]
  },
  {
   "cell_type": "code",
   "execution_count": 2,
   "metadata": {},
   "outputs": [],
   "source": [
    "observations = 1000\n",
    "\n",
    "xs = np.random.uniform(-10, 10, (observations, 1))\n",
    "zs = np.random.uniform(-10, 10, (observations, 1))\n",
    "\n",
    "generated_inputs = np.column_stack((xs, zs))\n",
    "\n",
    "noise1 = np.random.uniform(-1, 1, (observations, 1))\n",
    "noise2 = np.random.uniform(-1, 1, (observations, 1))\n",
    "\n",
    "targets1 = 2 * xs - 3 * zs + 5 + noise1\n",
    "targets2 = -3 * xs + 2 * zs  + noise2\n",
    "\n",
    "generated_targets = np.column_stack((targets1, targets2))\n",
    "\n",
    "np.savez('TF_intro', inputs=generated_inputs, targets=generated_targets)"
   ]
  },
  {
   "cell_type": "markdown",
   "metadata": {},
   "source": [
    "### Solving with TensorFlow"
   ]
  },
  {
   "cell_type": "code",
   "execution_count": 3,
   "metadata": {},
   "outputs": [
    {
     "name": "stdout",
     "output_type": "stream",
     "text": [
      "(1000, 2)\n"
     ]
    }
   ],
   "source": [
    "training_data = np.load('TF_intro.npz')\n",
    "\n",
    "print(training_data['inputs'].shape)"
   ]
  },
  {
   "cell_type": "code",
   "execution_count": 4,
   "metadata": {},
   "outputs": [
    {
     "name": "stdout",
     "output_type": "stream",
     "text": [
      "Epoch 1/100\n",
      "32/32 - 0s - loss: 22.2393\n",
      "Epoch 2/100\n",
      "32/32 - 0s - loss: 2.5638\n",
      "Epoch 3/100\n",
      "32/32 - 0s - loss: 0.9528\n",
      "Epoch 4/100\n",
      "32/32 - 0s - loss: 0.5031\n",
      "Epoch 5/100\n",
      "32/32 - 0s - loss: 0.3842\n",
      "Epoch 6/100\n",
      "32/32 - 0s - loss: 0.3523\n",
      "Epoch 7/100\n",
      "32/32 - 0s - loss: 0.3434\n",
      "Epoch 8/100\n",
      "32/32 - 0s - loss: 0.3417\n",
      "Epoch 9/100\n",
      "32/32 - 0s - loss: 0.3461\n",
      "Epoch 10/100\n",
      "32/32 - 0s - loss: 0.3414\n",
      "Epoch 11/100\n",
      "32/32 - 0s - loss: 0.3427\n",
      "Epoch 12/100\n",
      "32/32 - 0s - loss: 0.3409\n",
      "Epoch 13/100\n",
      "32/32 - 0s - loss: 0.3414\n",
      "Epoch 14/100\n",
      "32/32 - 0s - loss: 0.3421\n",
      "Epoch 15/100\n",
      "32/32 - 0s - loss: 0.3424\n",
      "Epoch 16/100\n",
      "32/32 - 0s - loss: 0.3444\n",
      "Epoch 17/100\n",
      "32/32 - 0s - loss: 0.3456\n",
      "Epoch 18/100\n",
      "32/32 - 0s - loss: 0.3432\n",
      "Epoch 19/100\n",
      "32/32 - 0s - loss: 0.3392\n",
      "Epoch 20/100\n",
      "32/32 - 0s - loss: 0.3471\n",
      "Epoch 21/100\n",
      "32/32 - 0s - loss: 0.3419\n",
      "Epoch 22/100\n",
      "32/32 - 0s - loss: 0.3433\n",
      "Epoch 23/100\n",
      "32/32 - 0s - loss: 0.3375\n",
      "Epoch 24/100\n",
      "32/32 - 0s - loss: 0.3424\n",
      "Epoch 25/100\n",
      "32/32 - 0s - loss: 0.3428\n",
      "Epoch 26/100\n",
      "32/32 - 0s - loss: 0.3464\n",
      "Epoch 27/100\n",
      "32/32 - 0s - loss: 0.3430\n",
      "Epoch 28/100\n",
      "32/32 - 0s - loss: 0.3435\n",
      "Epoch 29/100\n",
      "32/32 - 0s - loss: 0.3396\n",
      "Epoch 30/100\n",
      "32/32 - 0s - loss: 0.3456\n",
      "Epoch 31/100\n",
      "32/32 - 0s - loss: 0.3457\n",
      "Epoch 32/100\n",
      "32/32 - 0s - loss: 0.3391\n",
      "Epoch 33/100\n",
      "32/32 - 0s - loss: 0.3429\n",
      "Epoch 34/100\n",
      "32/32 - 0s - loss: 0.3420\n",
      "Epoch 35/100\n",
      "32/32 - 0s - loss: 0.3406\n",
      "Epoch 36/100\n",
      "32/32 - 0s - loss: 0.3411\n",
      "Epoch 37/100\n",
      "32/32 - 0s - loss: 0.3437\n",
      "Epoch 38/100\n",
      "32/32 - 0s - loss: 0.3387\n",
      "Epoch 39/100\n",
      "32/32 - 0s - loss: 0.3393\n",
      "Epoch 40/100\n",
      "32/32 - 0s - loss: 0.3420\n",
      "Epoch 41/100\n",
      "32/32 - 0s - loss: 0.3390\n",
      "Epoch 42/100\n",
      "32/32 - 0s - loss: 0.3423\n",
      "Epoch 43/100\n",
      "32/32 - 0s - loss: 0.3434\n",
      "Epoch 44/100\n",
      "32/32 - 0s - loss: 0.3430\n",
      "Epoch 45/100\n",
      "32/32 - 0s - loss: 0.3394\n",
      "Epoch 46/100\n",
      "32/32 - 0s - loss: 0.3434\n",
      "Epoch 47/100\n",
      "32/32 - 0s - loss: 0.3433\n",
      "Epoch 48/100\n",
      "32/32 - 0s - loss: 0.3415\n",
      "Epoch 49/100\n",
      "32/32 - 0s - loss: 0.3425\n",
      "Epoch 50/100\n",
      "32/32 - 0s - loss: 0.3434\n",
      "Epoch 51/100\n",
      "32/32 - 0s - loss: 0.3401\n",
      "Epoch 52/100\n",
      "32/32 - 0s - loss: 0.3437\n",
      "Epoch 53/100\n",
      "32/32 - 0s - loss: 0.3445\n",
      "Epoch 54/100\n",
      "32/32 - 0s - loss: 0.3447\n",
      "Epoch 55/100\n",
      "32/32 - 0s - loss: 0.3439\n",
      "Epoch 56/100\n",
      "32/32 - 0s - loss: 0.3393\n",
      "Epoch 57/100\n",
      "32/32 - 0s - loss: 0.3410\n",
      "Epoch 58/100\n",
      "32/32 - 0s - loss: 0.3436\n",
      "Epoch 59/100\n",
      "32/32 - 0s - loss: 0.3460\n",
      "Epoch 60/100\n",
      "32/32 - 0s - loss: 0.3393\n",
      "Epoch 61/100\n",
      "32/32 - 0s - loss: 0.3426\n",
      "Epoch 62/100\n",
      "32/32 - 0s - loss: 0.3386\n",
      "Epoch 63/100\n",
      "32/32 - 0s - loss: 0.3426\n",
      "Epoch 64/100\n",
      "32/32 - 0s - loss: 0.3360\n",
      "Epoch 65/100\n",
      "32/32 - 0s - loss: 0.3438\n",
      "Epoch 66/100\n",
      "32/32 - 0s - loss: 0.3401\n",
      "Epoch 67/100\n",
      "32/32 - 0s - loss: 0.3458\n",
      "Epoch 68/100\n",
      "32/32 - 0s - loss: 0.3400\n",
      "Epoch 69/100\n",
      "32/32 - 0s - loss: 0.3419\n",
      "Epoch 70/100\n",
      "32/32 - 0s - loss: 0.3449\n",
      "Epoch 71/100\n",
      "32/32 - 0s - loss: 0.3395\n",
      "Epoch 72/100\n",
      "32/32 - 0s - loss: 0.3434\n",
      "Epoch 73/100\n",
      "32/32 - 0s - loss: 0.3378\n",
      "Epoch 74/100\n",
      "32/32 - 0s - loss: 0.3412\n",
      "Epoch 75/100\n",
      "32/32 - 0s - loss: 0.3411\n",
      "Epoch 76/100\n",
      "32/32 - 0s - loss: 0.3394\n",
      "Epoch 77/100\n",
      "32/32 - 0s - loss: 0.3465\n",
      "Epoch 78/100\n",
      "32/32 - 0s - loss: 0.3473\n",
      "Epoch 79/100\n",
      "32/32 - 0s - loss: 0.3386\n",
      "Epoch 80/100\n",
      "32/32 - 0s - loss: 0.3478\n",
      "Epoch 81/100\n",
      "32/32 - 0s - loss: 0.3398\n",
      "Epoch 82/100\n",
      "32/32 - 0s - loss: 0.3425\n",
      "Epoch 83/100\n",
      "32/32 - 0s - loss: 0.3400\n",
      "Epoch 84/100\n",
      "32/32 - 0s - loss: 0.3413\n",
      "Epoch 85/100\n",
      "32/32 - 0s - loss: 0.3398\n",
      "Epoch 86/100\n",
      "32/32 - 0s - loss: 0.3417\n",
      "Epoch 87/100\n",
      "32/32 - 0s - loss: 0.3425\n",
      "Epoch 88/100\n",
      "32/32 - 0s - loss: 0.3389\n",
      "Epoch 89/100\n",
      "32/32 - 0s - loss: 0.3428\n",
      "Epoch 90/100\n",
      "32/32 - 0s - loss: 0.3398\n",
      "Epoch 91/100\n",
      "32/32 - 0s - loss: 0.3427\n",
      "Epoch 92/100\n",
      "32/32 - 0s - loss: 0.3394\n",
      "Epoch 93/100\n",
      "32/32 - 0s - loss: 0.3466\n",
      "Epoch 94/100\n",
      "32/32 - 0s - loss: 0.3464\n",
      "Epoch 95/100\n",
      "32/32 - 0s - loss: 0.3449\n",
      "Epoch 96/100\n",
      "32/32 - 0s - loss: 0.3447\n",
      "Epoch 97/100\n",
      "32/32 - 0s - loss: 0.3400\n",
      "Epoch 98/100\n",
      "32/32 - 0s - loss: 0.3430\n",
      "Epoch 99/100\n",
      "32/32 - 0s - loss: 0.3420\n",
      "Epoch 100/100\n",
      "32/32 - 0s - loss: 0.3433\n"
     ]
    },
    {
     "data": {
      "text/plain": [
       "<tensorflow.python.keras.callbacks.History at 0x2655d774af0>"
      ]
     },
     "execution_count": 4,
     "metadata": {},
     "output_type": "execute_result"
    }
   ],
   "source": [
    "input_size = 2\n",
    "output_size = 2\n",
    "\n",
    "#use batches when the number of observations is too high\n",
    "#batch_size = 100\n",
    "\n",
    "max_epochs = 100\n",
    "\n",
    "model = tf.keras.Sequential([\n",
    "    tf.keras.layers.Dense(units=output_size,\n",
    "                          kernel_initializer=tf.random_uniform_initializer(minval=-0.1, maxval=0.1),\n",
    "                          bias_initializer=tf.random_uniform_initializer(-0.1, 0.1))\n",
    "])\n",
    "\n",
    "#model.compile(optimizer='sgd', loss='mean_squared_error')\n",
    "\n",
    "custom_optimizer = tf.keras.optimizers.SGD(learning_rate=0.02)\n",
    "\n",
    "model.compile(optimizer=custom_optimizer, loss=tf.keras.losses.MeanSquaredError())\n",
    "\n",
    "#The Huber loss is more appropriate than the L2-norm when we have outliers,\n",
    "#as it is less sensitive to them\n",
    "#The L2-norm loss puts all differences *to the square*,\n",
    "#so outliers have a lot of influence on the outcome.\n",
    "\n",
    "#model.compile(optimizer=custom_optimizer, loss='huber_loss')\n",
    "\n",
    "model.fit(training_data['inputs'],\n",
    "          training_data['targets'],\n",
    "          epochs=max_epochs,\n",
    "          #batch_size=batch_size,\n",
    "          verbose=2)\n"
   ]
  },
  {
   "cell_type": "markdown",
   "metadata": {},
   "source": [
    "### Extract weights and biases"
   ]
  },
  {
   "cell_type": "code",
   "execution_count": 5,
   "metadata": {},
   "outputs": [
    {
     "name": "stdout",
     "output_type": "stream",
     "text": [
      "[array([[ 1.9950821, -2.9991438],\n",
      "       [-2.9508357,  2.0588305]], dtype=float32), array([ 4.9847193 , -0.03119679], dtype=float32)]\n",
      "<class 'list'>\n"
     ]
    }
   ],
   "source": [
    "params = model.layers[0].get_weights()\n",
    "\n",
    "print(params)\n",
    "print(type(params))"
   ]
  },
  {
   "cell_type": "markdown",
   "metadata": {},
   "source": [
    "### Extract outputs (make predictions)"
   ]
  },
  {
   "cell_type": "code",
   "execution_count": 6,
   "metadata": {},
   "outputs": [
    {
     "data": {
      "text/plain": [
       "array([[ 30.2, -31.2],\n",
       "       [-30.3,  32.7],\n",
       "       [  7.2, -12.3],\n",
       "       ...,\n",
       "       [ 11.6,  -4.3],\n",
       "       [-23.2,  30.5],\n",
       "       [  2.3,  12.1]], dtype=float32)"
      ]
     },
     "execution_count": 6,
     "metadata": {},
     "output_type": "execute_result"
    }
   ],
   "source": [
    "model.predict_on_batch(training_data['inputs']).round(1)"
   ]
  },
  {
   "cell_type": "code",
   "execution_count": 7,
   "metadata": {},
   "outputs": [
    {
     "data": {
      "text/plain": [
       "array([[ 30.9, -30.5],\n",
       "       [-29.8,  32.6],\n",
       "       [  6.2, -13.3],\n",
       "       ...,\n",
       "       [ 10.8,  -4. ],\n",
       "       [-23.5,  30.3],\n",
       "       [  3.2,  11.7]])"
      ]
     },
     "execution_count": 7,
     "metadata": {},
     "output_type": "execute_result"
    }
   ],
   "source": [
    "training_data['targets'].round(1)"
   ]
  },
  {
   "cell_type": "markdown",
   "metadata": {},
   "source": [
    "### Plotting the data"
   ]
  },
  {
   "cell_type": "code",
   "execution_count": 8,
   "metadata": {},
   "outputs": [
    {
     "data": {
      "text/plain": [
       "Text(0, 0.5, 'Predictions')"
      ]
     },
     "execution_count": 8,
     "metadata": {},
     "output_type": "execute_result"
    },
    {
     "data": {
      "image/png": "[encoded data removed]",
      "text/plain": [
       "<Figure size 432x288 with 1 Axes>"
      ]
     },
     "metadata": {
      "needs_background": "light"
     },
     "output_type": "display_data"
    }
   ],
   "source": [
    "plt.plot(training_data['targets'], model.predict_on_batch(training_data['inputs']))\n",
    "plt.xlabel('Targets')\n",
    "plt.ylabel('Predictions')"
   ]
  }
 ],
 "metadata": {
  "kernelspec": {
   "display_name": "Python 3",
   "language": "python",
   "name": "python3"
  },
  "language_info": {
   "codemirror_mode": {
    "name": "ipython",
    "version": 3
   },
   "file_extension": ".py",
   "mimetype": "text/x-python",
   "name": "python",
   "nbconvert_exporter": "python",
   "pygments_lexer": "ipython3",
   "version": "3.8.5"
  }
 },
 "nbformat": 4,
 "nbformat_minor": 4
}
