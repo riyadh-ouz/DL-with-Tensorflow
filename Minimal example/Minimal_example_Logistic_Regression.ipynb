{
 "cells": [
  {
   "cell_type": "markdown",
   "metadata": {},
   "source": [
    "# Simple Logistic Regression. Minimal example Tested on the Titanic dataset"
   ]
  },
  {
   "cell_type": "markdown",
   "metadata": {},
   "source": [
    "### Import the relevant libraries"
   ]
  },
  {
   "cell_type": "code",
   "execution_count": 1,
   "metadata": {},
   "outputs": [],
   "source": [
    "import numpy as np"
   ]
  },
  {
   "cell_type": "markdown",
   "metadata": {},
   "source": [
    "### Load the data to train on"
   ]
  },
  {
   "cell_type": "code",
   "execution_count": 5,
   "metadata": {
    "scrolled": false
   },
   "outputs": [],
   "source": [
    "npz = np.load('Titanic.npz')\n",
    "\n",
    "inputs = npz['inputs'].astype(np.float)\n",
    "targets = npz['targets'].astype(np.int)"
   ]
  },
  {
   "cell_type": "markdown",
   "metadata": {},
   "source": [
    "### Initialize variables"
   ]
  },
  {
   "cell_type": "code",
   "execution_count": 6,
   "metadata": {},
   "outputs": [
    {
     "name": "stdout",
     "output_type": "stream",
     "text": [
      "[[-0.01212358]\n",
      " [ 0.09413846]\n",
      " [-0.02769107]\n",
      " [-0.03993413]\n",
      " [-0.06834261]\n",
      " [ 0.06604128]]\n",
      "[0.01510682]\n"
     ]
    }
   ],
   "source": [
    "observations = inputs.shape[0]\n",
    "n_features = inputs.shape[1]\n",
    "\n",
    "init_range = 0.1\n",
    "\n",
    "weights = np.random.uniform(low=-init_range, high=init_range, size=(n_features, 1))\n",
    "\n",
    "biases = np.random.uniform(low=-init_range, high=init_range, size=1)\n",
    "\n",
    "print (weights)\n",
    "print (biases)"
   ]
  },
  {
   "cell_type": "markdown",
   "metadata": {},
   "source": [
    "### Set a learning rate"
   ]
  },
  {
   "cell_type": "code",
   "execution_count": 7,
   "metadata": {},
   "outputs": [],
   "source": [
    "learning_rate = 0.01"
   ]
  },
  {
   "cell_type": "markdown",
   "metadata": {},
   "source": [
    "### Train the model"
   ]
  },
  {
   "cell_type": "code",
   "execution_count": 8,
   "metadata": {
    "scrolled": true
   },
   "outputs": [],
   "source": [
    "for i in range (200):\n",
    "    \n",
    "    probabilities = 1 / ( 1 + np.exp(-(np.dot(inputs, weights) + biases)))\n",
    "    \n",
    "    deltas = probabilities - targets.reshape(probabilities.shape)\n",
    "    \n",
    "    deltas_scaled = deltas / observations\n",
    "    \n",
    "    weights = weights - learning_rate * np.dot(inputs.T, deltas_scaled)\n",
    "    biases = biases - learning_rate * np.sum(deltas_scaled)"
   ]
  },
  {
   "cell_type": "markdown",
   "metadata": {},
   "source": [
    "### Print weights and biases and see if we have worked correctly."
   ]
  },
  {
   "cell_type": "code",
   "execution_count": 9,
   "metadata": {},
   "outputs": [
    {
     "name": "stdout",
     "output_type": "stream",
     "text": [
      "[[-0.22597997]\n",
      " [-0.35038796]\n",
      " [-0.09908997]\n",
      " [-0.08527879]\n",
      " [ 0.0149474 ]\n",
      " [ 0.18275853]]\n",
      "[0.01041356]\n",
      "\n",
      "Model's accuracy: 76.32%\n"
     ]
    }
   ],
   "source": [
    "print (weights)\n",
    "print (biases)\n",
    "\n",
    "outputs = ((probabilities > 0.5).astype(np.int)).reshape(targets.shape)\n",
    "\n",
    "accuracy = ((outputs == targets).sum() / observations)\n",
    "print('\\nModel\\'s accuracy: {0:.2f}%'.format(accuracy*100.))"
   ]
  }
 ],
 "metadata": {
  "anaconda-cloud": {},
  "kernelspec": {
   "display_name": "Python 3",
   "language": "python",
   "name": "python3"
  },
  "language_info": {
   "codemirror_mode": {
    "name": "ipython",
    "version": 3
   },
   "file_extension": ".py",
   "mimetype": "text/x-python",
   "name": "python",
   "nbconvert_exporter": "python",
   "pygments_lexer": "ipython3",
   "version": "3.8.5"
  }
 },
 "nbformat": 4,
 "nbformat_minor": 1
}
