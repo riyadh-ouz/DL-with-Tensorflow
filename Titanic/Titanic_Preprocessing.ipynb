{
 "cells": [
  {
   "cell_type": "markdown",
   "metadata": {},
   "source": [
    "# The Titanic example - Preprocessing"
   ]
  },
  {
   "cell_type": "markdown",
   "metadata": {},
   "source": [
    "### Import the relevant libraries"
   ]
  },
  {
   "cell_type": "code",
   "execution_count": 26,
   "metadata": {},
   "outputs": [],
   "source": [
    "import numpy as np\n",
    "import pandas as pd\n",
    "import os\n",
    "from sklearn import preprocessing\n",
    "from sklearn.preprocessing import LabelEncoder"
   ]
  },
  {
   "cell_type": "markdown",
   "metadata": {},
   "source": [
    "### Extract the data from the csv"
   ]
  },
  {
   "cell_type": "code",
   "execution_count": 25,
   "metadata": {},
   "outputs": [],
   "source": [
    "path = os.path.join(os.pardir, 'data/titanic.csv')\n",
    "\n",
    "titanic_dataset = pd.read_csv(path)\n",
    "\n",
    "\n",
    "le = LabelEncoder() #To encoder the sex column\n",
    "titanic_dataset['Sex'] = le.fit_transform(titanic_dataset['Sex'])\n",
    "\n",
    "titanic_inputs = titanic_dataset[['Pclass', 'Sex', 'Age','Siblings/Spouses', 'Parents/Children', 'Fare']].values\n",
    "\n",
    "titanic_targets = titanic_dataset['Survived'].values"
   ]
  },
  {
   "cell_type": "markdown",
   "metadata": {},
   "source": [
    "### Balance the dataset "
   ]
  },
  {
   "cell_type": "code",
   "execution_count": 43,
   "metadata": {},
   "outputs": [],
   "source": [
    "num_samples = titanic_targets.shape[0]\n",
    "num_one_targets = titanic_targets.sum()\n",
    "zero_targets_counter = 0\n",
    "\n",
    "indices_to_remove = []\n",
    "\n",
    "for i in range(num_samples):\n",
    "    if titanic_targets[i] == 0:\n",
    "        zero_targets_counter +=1\n",
    "        if zero_targets_counter > num_one_targets:\n",
    "            indices_to_remove.append(i)\n",
    "\n",
    "inputs_equal_priors = np.delete(titanic_inputs, indices_to_remove, axis=0)\n",
    "targets_equal_priors = np.delete(titanic_targets, indices_to_remove, axis=0)\n",
    "\n",
    "num_samples = targets_equal_priors.shape[0]"
   ]
  },
  {
   "cell_type": "markdown",
   "metadata": {},
   "source": [
    "### Standardize the inputs "
   ]
  },
  {
   "cell_type": "code",
   "execution_count": 69,
   "metadata": {},
   "outputs": [],
   "source": [
    "scaled_inputs = preprocessing.scale(inputs_equal_priors)"
   ]
  },
  {
   "cell_type": "markdown",
   "metadata": {},
   "source": [
    "### Shuffle the data"
   ]
  },
  {
   "cell_type": "code",
   "execution_count": 70,
   "metadata": {},
   "outputs": [],
   "source": [
    "shuffled_indices = np.arange(num_samples)\n",
    "np.random.shuffle(shuffled_indices)\n",
    "\n",
    "shuffled_inputs = scaled_inputs[shuffled_indices]\n",
    "shuffled_targets = targets_equal_priors[shuffled_indices]"
   ]
  },
  {
   "cell_type": "markdown",
   "metadata": {},
   "source": [
    "### Split the dataset into train, validation, and test"
   ]
  },
  {
   "cell_type": "code",
   "execution_count": 64,
   "metadata": {},
   "outputs": [
    {
     "name": "stdout",
     "output_type": "stream",
     "text": [
      "259 513 0.5048732943469786\n",
      "50 102 0.49019607843137253\n",
      "33 69 0.4782608695652174\n"
     ]
    }
   ],
   "source": [
    "num_train_samples = int(0.75 * num_samples)\n",
    "num_validation_samples = int(0.15 * num_samples)\n",
    "num_test_samples = num_samples - num_train_samples - num_validation_samples\n",
    "\n",
    "train_inputs = shuffled_inputs[:num_train_samples]\n",
    "train_targets = shuffled_targets[:num_train_samples]\n",
    "\n",
    "validation_inputs = shuffled_inputs[num_train_samples: num_train_samples + num_validation_samples]\n",
    "validation_targets = shuffled_targets[num_train_samples: num_train_samples + num_validation_samples]\n",
    "\n",
    "test_inputs = shuffled_inputs[num_train_samples + num_validation_samples:]\n",
    "test_targets = shuffled_targets[num_train_samples + num_validation_samples:]\n",
    "\n",
    "print(np.sum(train_targets), num_train_samples, np.sum(train_targets) / num_train_samples)\n",
    "print(np.sum(validation_targets), num_validation_samples, np.sum(validation_targets) / num_validation_samples)\n",
    "print(np.sum(test_targets), num_test_samples, np.sum(test_targets) / num_test_samples)"
   ]
  },
  {
   "cell_type": "code",
   "execution_count": 65,
   "metadata": {},
   "outputs": [],
   "source": [
    "np.savez('Titanic_data_train', inputs=train_inputs, targets=train_targets)\n",
    "np.savez('Titanic_data_validation', inputs=validation_inputs, targets=validation_targets)\n",
    "np.savez('Titanic_data_test', inputs=test_inputs, targets=test_targets)"
   ]
  }
 ],
 "metadata": {
  "kernelspec": {
   "display_name": "Python 3",
   "language": "python",
   "name": "python3"
  },
  "language_info": {
   "codemirror_mode": {
    "name": "ipython",
    "version": 3
   },
   "file_extension": ".py",
   "mimetype": "text/x-python",
   "name": "python",
   "nbconvert_exporter": "python",
   "pygments_lexer": "ipython3",
   "version": "3.8.5"
  }
 },
 "nbformat": 4,
 "nbformat_minor": 4
}
