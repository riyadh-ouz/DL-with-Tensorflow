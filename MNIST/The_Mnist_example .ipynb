{
 "cells": [
  {
   "cell_type": "markdown",
   "metadata": {},
   "source": [
    "# Deep Neural Network for MNIST Classification"
   ]
  },
  {
   "cell_type": "markdown",
   "metadata": {},
   "source": [
    "## Import the relevant packages"
   ]
  },
  {
   "cell_type": "code",
   "execution_count": 1,
   "metadata": {},
   "outputs": [],
   "source": [
    "import numpy as np\n",
    "import tensorflow as tf\n",
    "from tensorflow import keras"
   ]
  },
  {
   "cell_type": "markdown",
   "metadata": {},
   "source": [
    "## Data"
   ]
  },
  {
   "cell_type": "markdown",
   "metadata": {},
   "source": [
    "### Load the data from keras.datasets"
   ]
  },
  {
   "cell_type": "code",
   "execution_count": 2,
   "metadata": {},
   "outputs": [],
   "source": [
    "mnist_dataset = keras.datasets.mnist.load_data()\n",
    "mnist_train, mnist_test = mnist_dataset"
   ]
  },
  {
   "cell_type": "markdown",
   "metadata": {},
   "source": [
    "### Scaling"
   ]
  },
  {
   "cell_type": "code",
   "execution_count": 3,
   "metadata": {},
   "outputs": [],
   "source": [
    "scaled_train_inputs, train_targets = mnist_train[0] / 255., mnist_train[1]\n",
    "scaled_test_inputs, test_targets = mnist_test[0] / 255., mnist_test[1]"
   ]
  },
  {
   "cell_type": "markdown",
   "metadata": {},
   "source": [
    "### Shuffling"
   ]
  },
  {
   "cell_type": "code",
   "execution_count": 4,
   "metadata": {},
   "outputs": [],
   "source": [
    "#train data\n",
    "shuffled_indices = np.arange(scaled_train_inputs.shape[0])\n",
    "np.random.shuffle(shuffled_indices)\n",
    "\n",
    "shuffled_train_inputs, shuffled_train_targets = scaled_train_inputs[shuffled_indices], train_targets[shuffled_indices]\n",
    "\n",
    "#test data\n",
    "shuffled_indices = np.arange(scaled_test_inputs.shape[0])\n",
    "np.random.shuffle(shuffled_indices)\n",
    "\n",
    "shuffled_test_inputs, shuffled_test_targets = scaled_test_inputs[shuffled_indices], test_targets[shuffled_indices]"
   ]
  },
  {
   "cell_type": "markdown",
   "metadata": {},
   "source": [
    "### Create validation data "
   ]
  },
  {
   "cell_type": "code",
   "execution_count": 5,
   "metadata": {},
   "outputs": [
    {
     "name": "stdout",
     "output_type": "stream",
     "text": [
      "(6000,)\n"
     ]
    }
   ],
   "source": [
    "num_validation_samples = int(0.1 * shuffled_train_inputs.shape[0])\n",
    "\n",
    "train_inputs = shuffled_train_inputs[num_validation_samples:]\n",
    "train_targets = shuffled_train_targets[num_validation_samples:]\n",
    "\n",
    "validation_inputs = shuffled_train_inputs[:num_validation_samples]\n",
    "validation_targets = shuffled_train_targets[:num_validation_samples]\n",
    "\n",
    "test_inputs, test_targets = shuffled_test_inputs, shuffled_test_targets\n",
    "\n",
    "print(validation_targets.shape)"
   ]
  },
  {
   "cell_type": "markdown",
   "metadata": {},
   "source": [
    "## Outline the model "
   ]
  },
  {
   "cell_type": "code",
   "execution_count": 6,
   "metadata": {},
   "outputs": [],
   "source": [
    "output_size = 10\n",
    "hidden_layer_size = 128\n",
    "\n",
    "model = keras.Sequential([\n",
    "    keras.layers.Flatten(input_shape=(28,28,1)),\n",
    "    keras.layers.Dense(hidden_layer_size, activation='relu'),\n",
    "    keras.layers.Dense(hidden_layer_size, activation='tanh'),\n",
    "    keras.layers.Dense(output_size, activation='softmax')\n",
    "])\n"
   ]
  },
  {
   "cell_type": "markdown",
   "metadata": {},
   "source": [
    "### Choose the optimizer and the loss function"
   ]
  },
  {
   "cell_type": "code",
   "execution_count": 7,
   "metadata": {},
   "outputs": [],
   "source": [
    "model.compile(optimizer='adam', loss='sparse_categorical_crossentropy', metrics=['accuracy'])"
   ]
  },
  {
   "cell_type": "markdown",
   "metadata": {},
   "source": [
    "### Training"
   ]
  },
  {
   "cell_type": "code",
   "execution_count": 12,
   "metadata": {},
   "outputs": [
    {
     "name": "stdout",
     "output_type": "stream",
     "text": [
      "Epoch 1/20\n",
      "540/540 - 2s - loss: 0.0114 - accuracy: 0.9969 - val_loss: 0.0917 - val_accuracy: 0.9743\n",
      "Epoch 2/20\n",
      "540/540 - 2s - loss: 0.0124 - accuracy: 0.9960 - val_loss: 0.0931 - val_accuracy: 0.9750\n",
      "Epoch 3/20\n",
      "540/540 - 2s - loss: 0.0118 - accuracy: 0.9962 - val_loss: 0.0973 - val_accuracy: 0.9732\n",
      "Epoch 4/20\n",
      "540/540 - 2s - loss: 0.0094 - accuracy: 0.9972 - val_loss: 0.1106 - val_accuracy: 0.9727\n",
      "Epoch 5/20\n",
      "540/540 - 2s - loss: 0.0089 - accuracy: 0.9970 - val_loss: 0.1002 - val_accuracy: 0.9757\n",
      "Epoch 6/20\n",
      "540/540 - 2s - loss: 0.0088 - accuracy: 0.9972 - val_loss: 0.1236 - val_accuracy: 0.9713\n",
      "Epoch 7/20\n",
      "540/540 - 2s - loss: 0.0056 - accuracy: 0.9985 - val_loss: 0.1122 - val_accuracy: 0.9738\n",
      "Epoch 8/20\n",
      "540/540 - 2s - loss: 0.0075 - accuracy: 0.9976 - val_loss: 0.1149 - val_accuracy: 0.9750\n",
      "Epoch 9/20\n",
      "540/540 - 2s - loss: 0.0081 - accuracy: 0.9971 - val_loss: 0.1142 - val_accuracy: 0.9762\n",
      "Epoch 10/20\n",
      "540/540 - 2s - loss: 0.0078 - accuracy: 0.9974 - val_loss: 0.1067 - val_accuracy: 0.9750\n",
      "Epoch 11/20\n",
      "540/540 - 2s - loss: 0.0019 - accuracy: 0.9996 - val_loss: 0.1014 - val_accuracy: 0.9775\n",
      "Epoch 12/20\n",
      "540/540 - 2s - loss: 0.0011 - accuracy: 0.9998 - val_loss: 0.1074 - val_accuracy: 0.9768\n",
      "Epoch 13/20\n",
      "540/540 - 2s - loss: 3.6157e-04 - accuracy: 1.0000 - val_loss: 0.1076 - val_accuracy: 0.9765\n",
      "Epoch 14/20\n",
      "540/540 - 2s - loss: 1.4749e-04 - accuracy: 1.0000 - val_loss: 0.1070 - val_accuracy: 0.9782\n",
      "Epoch 15/20\n",
      "540/540 - 2s - loss: 1.0574e-04 - accuracy: 1.0000 - val_loss: 0.1081 - val_accuracy: 0.9785\n",
      "Epoch 16/20\n",
      "540/540 - 2s - loss: 8.5678e-05 - accuracy: 1.0000 - val_loss: 0.1104 - val_accuracy: 0.9780\n",
      "Epoch 17/20\n",
      "540/540 - 2s - loss: 7.0413e-05 - accuracy: 1.0000 - val_loss: 0.1104 - val_accuracy: 0.9778\n",
      "Epoch 18/20\n",
      "540/540 - 2s - loss: 5.7919e-05 - accuracy: 1.0000 - val_loss: 0.1112 - val_accuracy: 0.9782\n",
      "Epoch 19/20\n",
      "540/540 - 2s - loss: 4.8433e-05 - accuracy: 1.0000 - val_loss: 0.1156 - val_accuracy: 0.9773\n",
      "Epoch 20/20\n",
      "540/540 - 2s - loss: 3.9537e-05 - accuracy: 1.0000 - val_loss: 0.1151 - val_accuracy: 0.9772\n"
     ]
    },
    {
     "data": {
      "text/plain": [
       "<tensorflow.python.keras.callbacks.History at 0x1ce5fe10eb0>"
      ]
     },
     "execution_count": 12,
     "metadata": {},
     "output_type": "execute_result"
    }
   ],
   "source": [
    "max_epochs = 20\n",
    "batch_size = 100\n",
    "early_stopping = keras.callbacks.EarlyStopping(patience=3)\n",
    "\n",
    "model.fit(train_inputs,\n",
    "          train_targets,\n",
    "          batch_size=batch_size,\n",
    "          epochs=max_epochs,\n",
    "          callbacks=[early_stopping],\n",
    "          validation_data=(validation_inputs, validation_targets),\n",
    "          verbose=2)"
   ]
  },
  {
   "cell_type": "markdown",
   "metadata": {},
   "source": [
    "## Test the model "
   ]
  },
  {
   "cell_type": "code",
   "execution_count": 13,
   "metadata": {},
   "outputs": [
    {
     "name": "stdout",
     "output_type": "stream",
     "text": [
      "313/313 [==============================] - 1s 2ms/step - loss: 0.0929 - accuracy: 0.9824\n"
     ]
    }
   ],
   "source": [
    "test_loss, test_accuracy = model.evaluate(test_inputs, test_targets)"
   ]
  },
  {
   "cell_type": "code",
   "execution_count": 14,
   "metadata": {},
   "outputs": [
    {
     "name": "stdout",
     "output_type": "stream",
     "text": [
      "\n",
      "Test loss: 0.09, Test accuracy: 98.24%\n"
     ]
    }
   ],
   "source": [
    "print('\\nTest loss: {0:.2f}, Test accuracy: {1:.2f}%'.format(test_loss, test_accuracy*100.))"
   ]
  }
 ],
 "metadata": {
  "kernelspec": {
   "display_name": "Python 3",
   "language": "python",
   "name": "python3"
  },
  "language_info": {
   "codemirror_mode": {
    "name": "ipython",
    "version": 3
   },
   "file_extension": ".py",
   "mimetype": "text/x-python",
   "name": "python",
   "nbconvert_exporter": "python",
   "pygments_lexer": "ipython3",
   "version": "3.8.5"
  }
 },
 "nbformat": 4,
 "nbformat_minor": 4
}
